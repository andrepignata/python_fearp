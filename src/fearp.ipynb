{
 "cells": [
  {
   "cell_type": "markdown",
   "id": "51f6c4c2",
   "metadata": {},
   "source": [
    "# Introdução ao Python para Manipulação de Dados"
   ]
  },
  {
   "cell_type": "markdown",
   "id": "7ca85a47",
   "metadata": {},
   "source": [
    "\n",
    "Vamos ver os conceitos básicos de Python, manipulação de dados com Pandas e visualização de dados com Streamlit.\n",
    "Vamos abordar tópicos essenciais para alunos de economia, contabilidade e administração.\n",
    "\n",
    "### Estrutura da Palestra\n",
    "1. Sintaxe básica do Python.\n",
    "2. Introdução ao Pandas.\n",
    "3. Manipulação de Dados.\n",
    "4. Visualização de dados com Streamlit.\n",
    "5. Exemplos práticos e hands-on.\n"
   ]
  },
  {
   "cell_type": "markdown",
   "id": "85a83a74",
   "metadata": {},
   "source": [
    "## 1. Primeiros Passos com Python"
   ]
  },
  {
   "cell_type": "code",
   "execution_count": null,
   "id": "c1b094e7",
   "metadata": {},
   "outputs": [],
   "source": [
    "# Declaração de variáveis e tipos básicos\n",
    "preco = 100\n",
    "produto = \"Produto X\"\n",
    "quantidade = 5\n",
    "\n",
    "# Exibindo os valores\n",
    "print(f\"Produto: {produto}, Preço: {preco}, Quantidade: {quantidade}\")"
   ]
  },
  {
   "cell_type": "code",
   "execution_count": null,
   "id": "85307370",
   "metadata": {},
   "outputs": [],
   "source": [
    "# Estruturas condicionais\n",
    "if preco > 200:\n",
    "    print(\"Produto caro\")\n",
    "else:\n",
    "    print(\"Produto barato\")"
   ]
  },
  {
   "cell_type": "code",
   "execution_count": null,
   "id": "dfb9a215",
   "metadata": {},
   "outputs": [],
   "source": [
    "# Estruturas condicionais: elif\n",
    "if preco < 50:\n",
    "    print(\"Produto baratíssimo\")\n",
    "elif preco >= 50 and preco < 200:\n",
    "    print(\"Produto barato\")\n",
    "else:\n",
    "    print(\"Produto caro\")"
   ]
  },
  {
   "cell_type": "code",
   "execution_count": null,
   "id": "ce499227",
   "metadata": {},
   "outputs": [],
   "source": [
    "# Estruturas de repetição\n",
    "produtos = [\"Arroz\", \"Feijão\", \"Macarrão\"]\n",
    "precos = [15.90, 9.50, 5.99]\n",
    "\n",
    "for i in range(len(produtos)):\n",
    "    if precos[i] > 10:\n",
    "        print(f\"{produtos[i]} é caro\")\n",
    "    else:\n",
    "        print(f\"{produtos[i]} é barato\")"
   ]
  },
  {
   "cell_type": "code",
   "execution_count": null,
   "id": "a0d8701b",
   "metadata": {},
   "outputs": [],
   "source": [
    "i = 0\n",
    "while i < len(produtos):\n",
    "    if precos[i] > 10:\n",
    "        print(f\"{produtos[i]} é caro\")\n",
    "    else:\n",
    "        print(f\"{produtos[i]} é barato\")\n",
    "    i += 1"
   ]
  },
  {
   "cell_type": "markdown",
   "id": "0a81915a",
   "metadata": {},
   "source": [
    "## 2. Introdução ao Pandas"
   ]
  },
  {
   "cell_type": "code",
   "execution_count": null,
   "id": "e4ca0f12",
   "metadata": {
    "scrolled": true
   },
   "outputs": [],
   "source": [
    "import pandas as pd\n",
    "\n",
    "# Carregando o arquivo de dados fictícios\n",
    "df = pd.read_csv(\"../data/dados_financeiros.csv\")\n",
    "\n",
    "# Exibir as primeiras linhas do DataFrame\n",
    "df.head()"
   ]
  },
  {
   "cell_type": "markdown",
   "id": "c4927da3",
   "metadata": {},
   "source": [
    "## 3. Manipulação de Dados com Pandas"
   ]
  },
  {
   "cell_type": "code",
   "execution_count": null,
   "id": "50daccc7",
   "metadata": {},
   "outputs": [],
   "source": [
    "# Exemplo de filtragem de dados\n",
    "df_filtrado = df[df[\"preco\"] > 300]"
   ]
  },
  {
   "cell_type": "code",
   "execution_count": null,
   "id": "da47fe28-ed53-40e1-a713-cc6b9d7cf0b7",
   "metadata": {},
   "outputs": [],
   "source": [
    "# Exibir os dados filtrados\n",
    "df_filtrado.head()"
   ]
  },
  {
   "cell_type": "code",
   "execution_count": null,
   "id": "25fb62ef-e13b-43fe-b744-9cd8f606eb93",
   "metadata": {},
   "outputs": [],
   "source": [
    "# Criação de uma nova coluna baseada em uma condição (função lambda)\n",
    "def classificacao(x):\n",
    "    if x < 200:\n",
    "        return \"Barato\"\n",
    "    else:\n",
    "        return \"Caro\"\n",
    "\n",
    "\n",
    "df[\"categoria_preco\"] = df[\"preco\"].apply(lambda x: classificacao(x))"
   ]
  },
  {
   "cell_type": "code",
   "execution_count": null,
   "id": "163b53a3-f39d-46a6-a734-7f1af1e6db66",
   "metadata": {},
   "outputs": [],
   "source": [
    "# explicando if inline\n",
    "x = 20\n",
    "print(\"Barato\" if x < 200 else \"Caro\")"
   ]
  },
  {
   "cell_type": "code",
   "execution_count": null,
   "id": "df4a5c9a",
   "metadata": {},
   "outputs": [],
   "source": [
    "# Criação de uma nova coluna baseada em uma condição (função lambda)\n",
    "df[\"categoria_preco\"] = df[\"preco\"].apply(lambda x: \"Barato\" if x < 200 else \"Barato\")"
   ]
  },
  {
   "cell_type": "code",
   "execution_count": null,
   "id": "c58b46d5-89d3-4d18-8141-9be7c8260c1e",
   "metadata": {},
   "outputs": [],
   "source": [
    "# Exibir o DataFrame com a nova coluna\n",
    "df.head()"
   ]
  },
  {
   "cell_type": "code",
   "execution_count": null,
   "id": "a1e8e40d-454a-40f2-94ab-19d49aae1329",
   "metadata": {},
   "outputs": [],
   "source": [
    "# Verificando os tipos de dados\n",
    "df.dtypes"
   ]
  },
  {
   "cell_type": "code",
   "execution_count": null,
   "id": "dee3d55f-74dd-4bf3-bad4-8470b6301082",
   "metadata": {},
   "outputs": [],
   "source": [
    "# Converter colunas de datas (se houver)\n",
    "df[\"data\"] = pd.to_datetime(df[\"data\"], errors=\"coerce\")"
   ]
  },
  {
   "cell_type": "code",
   "execution_count": null,
   "id": "aa0a2bed",
   "metadata": {},
   "outputs": [],
   "source": [
    "import numpy as np\n",
    "\n",
    "# Limpeza de dados: remover duplicatas\n",
    "df = df.drop_duplicates()\n",
    "\n",
    "# Identificar colunas numéricas\n",
    "df_numerico = df.select_dtypes(include=[np.number])\n",
    "\n",
    "# Preencher valores faltantes apenas nas colunas numéricas\n",
    "df[df_numerico.columns] = df_numerico.fillna(df_numerico.mean())\n",
    "\n",
    "# Exibir as primeiras linhas após a limpeza\n",
    "df.head()"
   ]
  },
  {
   "cell_type": "code",
   "execution_count": null,
   "id": "893591bc-d177-43e0-b094-2f971ae95ce4",
   "metadata": {},
   "outputs": [],
   "source": [
    "# Salvando dados\n",
    "df.to_csv(\"tratado.csv\", index=False)"
   ]
  },
  {
   "cell_type": "markdown",
   "id": "92a29ceb",
   "metadata": {},
   "source": [
    "## 4. Visualização de Dados com Streamlit"
   ]
  },
  {
   "cell_type": "markdown",
   "id": "a290be89-95fa-449c-a693-7f11778e54a3",
   "metadata": {
    "jp-MarkdownHeadingCollapsed": true
   },
   "source": [
    "streamlit run dashboard.py"
   ]
  }
 ],
 "metadata": {
  "kernelspec": {
   "display_name": "Python 3 (ipykernel)",
   "language": "python",
   "name": "python3"
  },
  "language_info": {
   "codemirror_mode": {
    "name": "ipython",
    "version": 3
   },
   "file_extension": ".py",
   "mimetype": "text/x-python",
   "name": "python",
   "nbconvert_exporter": "python",
   "pygments_lexer": "ipython3",
   "version": "3.10.15"
  }
 },
 "nbformat": 4,
 "nbformat_minor": 5
}
